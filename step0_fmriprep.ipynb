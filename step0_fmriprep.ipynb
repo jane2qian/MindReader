{
 "cells": [
  {
   "cell_type": "code",
   "execution_count": null,
   "metadata": {},
   "outputs": [],
   "source": [
    "#!/bin/bash\n",
    "home_folder=\"/data/neuro/MindReader\"\n",
    "#scaffold dset struc\n",
    "sudo dcm2bids_scaffold -o $home_folder\n",
    "#dicom in sourcedata path\n",
    "Dicom_folder=${home_folder}/sourcedata\n",
    "#transport data from local machine\n",
    "#local_path=\"~/Desktop/Dicom/\"\n",
    "#scp -i ~/.ssh/neuro-key.pem -rC $local_path ubuntu@10.0.1.48:/data/neuro/MindReader/sourcedata\n",
    "declare -a Subj_id=()\"01\" \"02\" \"03\" \"04\")#example\n",
    "#create config.json for dset easy from online json editor\n",
    "for i in ${Subj_id[@]};do\n",
    "    sudo dcm2bids -d $Dicom_folder -p ${i} -c $home_folder/config.json -o $home_folder\n",
    "done"
   ]
  },
  {
   "cell_type": "code",
   "execution_count": null,
   "metadata": {},
   "outputs": [],
   "source": [
    "#fmriprep via docker\n",
    "#sudo docker run -it --rm \\\n",
    "#        -v $home_folder:/data:ro \\\n",
    "#        -v $home_folder/derivatives:/out \\\n",
    "#        -v /data/neuro/license.txt:/opt/freesurfer/license.txt poldracklab/fmriprep:latest \\\n",
    "#        /data /out participant \\\n",
    "#        --ignore fieldmaps slicetiming sbref --participant-label ${Subj_id} \\\n",
    "#        --no-submm-recon --output-space T1w template fsaverage5 \\\n",
    "#        --nthreads 8 --omp-nthreads 8 "
   ]
  }
 ],
 "metadata": {
  "kernelspec": {
   "display_name": "Python 2",
   "language": "python",
   "name": "python2"
  },
  "language_info": {
   "codemirror_mode": {
    "name": "ipython",
    "version": 2
   },
   "file_extension": ".py",
   "mimetype": "text/x-python",
   "name": "python",
   "nbconvert_exporter": "python",
   "pygments_lexer": "ipython2",
   "version": "2.7.15"
  }
 },
 "nbformat": 4,
 "nbformat_minor": 2
}
