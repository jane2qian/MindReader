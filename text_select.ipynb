{
 "cells": [
  {
   "cell_type": "code",
   "execution_count": 62,
   "metadata": {},
   "outputs": [
    {
     "name": "stdout",
     "output_type": "stream",
     "text": [
      "['/Users/ruiqing/Desktop/Material_11_21/.DS_Store', '/Users/ruiqing/Desktop/Material_11_21/text_chosen.csv', '/Users/ruiqing/Desktop/Material_11_21/text_select.py']\n",
      "['/Users/ruiqing/Desktop/Material_11_21/.DS_Store', '/Users/ruiqing/Desktop/Material_11_21/text_chosen.csv', '/Users/ruiqing/Desktop/Material_11_21/text_select.py', '/Users/ruiqing/Desktop/Material_11_21/4min/ChristopherdeCharms_2008.wav', '/Users/ruiqing/Desktop/Material_11_21/4min/PeterDiamandis_2008.wav', '/Users/ruiqing/Desktop/Material_11_21/4min/RennyGleeson_2012U.wav', '/Users/ruiqing/Desktop/Material_11_21/4min/SamMartin_2009G.wav', '/Users/ruiqing/Desktop/Material_11_21/4min/CarlSchoonover_2012U.wav', '/Users/ruiqing/Desktop/Material_11_21/4min/TerryMoore_2012.wav', '/Users/ruiqing/Desktop/Material_11_21/4min/MarcinJakubowski_2011U.wav', '/Users/ruiqing/Desktop/Material_11_21/4min/GeverTulley_2009.wav']\n",
      "['/Users/ruiqing/Desktop/Material_11_21/.DS_Store', '/Users/ruiqing/Desktop/Material_11_21/text_chosen.csv', '/Users/ruiqing/Desktop/Material_11_21/text_select.py', '/Users/ruiqing/Desktop/Material_11_21/4min/ChristopherdeCharms_2008.wav', '/Users/ruiqing/Desktop/Material_11_21/4min/PeterDiamandis_2008.wav', '/Users/ruiqing/Desktop/Material_11_21/4min/RennyGleeson_2012U.wav', '/Users/ruiqing/Desktop/Material_11_21/4min/SamMartin_2009G.wav', '/Users/ruiqing/Desktop/Material_11_21/4min/CarlSchoonover_2012U.wav', '/Users/ruiqing/Desktop/Material_11_21/4min/TerryMoore_2012.wav', '/Users/ruiqing/Desktop/Material_11_21/4min/MarcinJakubowski_2011U.wav', '/Users/ruiqing/Desktop/Material_11_21/4min/GeverTulley_2009.wav', '/Users/ruiqing/Desktop/Material_11_21/5min/JessicaGreen_2011G.wav', '/Users/ruiqing/Desktop/Material_11_21/5min/JessiArrington_2011A.wav', '/Users/ruiqing/Desktop/Material_11_21/5min/ChristinaWarinner_2012U.wav', '/Users/ruiqing/Desktop/Material_11_21/5min/TaniaLuna_2012S.wav', '/Users/ruiqing/Desktop/Material_11_21/5min/KirkCitron_2010.wav', '/Users/ruiqing/Desktop/Material_11_21/5min/MurrayGellMannLANGUAGE_2007.wav']\n",
      "['/Users/ruiqing/Desktop/Material_11_21/.DS_Store', '/Users/ruiqing/Desktop/Material_11_21/text_chosen.csv', '/Users/ruiqing/Desktop/Material_11_21/text_select.py', '/Users/ruiqing/Desktop/Material_11_21/4min/ChristopherdeCharms_2008.wav', '/Users/ruiqing/Desktop/Material_11_21/4min/PeterDiamandis_2008.wav', '/Users/ruiqing/Desktop/Material_11_21/4min/RennyGleeson_2012U.wav', '/Users/ruiqing/Desktop/Material_11_21/4min/SamMartin_2009G.wav', '/Users/ruiqing/Desktop/Material_11_21/4min/CarlSchoonover_2012U.wav', '/Users/ruiqing/Desktop/Material_11_21/4min/TerryMoore_2012.wav', '/Users/ruiqing/Desktop/Material_11_21/4min/MarcinJakubowski_2011U.wav', '/Users/ruiqing/Desktop/Material_11_21/4min/GeverTulley_2009.wav', '/Users/ruiqing/Desktop/Material_11_21/5min/JessicaGreen_2011G.wav', '/Users/ruiqing/Desktop/Material_11_21/5min/JessiArrington_2011A.wav', '/Users/ruiqing/Desktop/Material_11_21/5min/ChristinaWarinner_2012U.wav', '/Users/ruiqing/Desktop/Material_11_21/5min/TaniaLuna_2012S.wav', '/Users/ruiqing/Desktop/Material_11_21/5min/KirkCitron_2010.wav', '/Users/ruiqing/Desktop/Material_11_21/5min/MurrayGellMannLANGUAGE_2007.wav', '/Users/ruiqing/Desktop/Material_11_21/9min/EricMead_2009P.wav']\n",
      "['/Users/ruiqing/Desktop/Material_11_21/.DS_Store', '/Users/ruiqing/Desktop/Material_11_21/text_chosen.csv', '/Users/ruiqing/Desktop/Material_11_21/text_select.py', '/Users/ruiqing/Desktop/Material_11_21/4min/ChristopherdeCharms_2008.wav', '/Users/ruiqing/Desktop/Material_11_21/4min/PeterDiamandis_2008.wav', '/Users/ruiqing/Desktop/Material_11_21/4min/RennyGleeson_2012U.wav', '/Users/ruiqing/Desktop/Material_11_21/4min/SamMartin_2009G.wav', '/Users/ruiqing/Desktop/Material_11_21/4min/CarlSchoonover_2012U.wav', '/Users/ruiqing/Desktop/Material_11_21/4min/TerryMoore_2012.wav', '/Users/ruiqing/Desktop/Material_11_21/4min/MarcinJakubowski_2011U.wav', '/Users/ruiqing/Desktop/Material_11_21/4min/GeverTulley_2009.wav', '/Users/ruiqing/Desktop/Material_11_21/5min/JessicaGreen_2011G.wav', '/Users/ruiqing/Desktop/Material_11_21/5min/JessiArrington_2011A.wav', '/Users/ruiqing/Desktop/Material_11_21/5min/ChristinaWarinner_2012U.wav', '/Users/ruiqing/Desktop/Material_11_21/5min/TaniaLuna_2012S.wav', '/Users/ruiqing/Desktop/Material_11_21/5min/KirkCitron_2010.wav', '/Users/ruiqing/Desktop/Material_11_21/5min/MurrayGellMannLANGUAGE_2007.wav', '/Users/ruiqing/Desktop/Material_11_21/9min/EricMead_2009P.wav', '/Users/ruiqing/Desktop/Material_11_21/6min/GaryFlake_2010.wav']\n",
      "['/Users/ruiqing/Desktop/Material_11_21/.DS_Store', '/Users/ruiqing/Desktop/Material_11_21/text_chosen.csv', '/Users/ruiqing/Desktop/Material_11_21/text_select.py', '/Users/ruiqing/Desktop/Material_11_21/4min/ChristopherdeCharms_2008.wav', '/Users/ruiqing/Desktop/Material_11_21/4min/PeterDiamandis_2008.wav', '/Users/ruiqing/Desktop/Material_11_21/4min/RennyGleeson_2012U.wav', '/Users/ruiqing/Desktop/Material_11_21/4min/SamMartin_2009G.wav', '/Users/ruiqing/Desktop/Material_11_21/4min/CarlSchoonover_2012U.wav', '/Users/ruiqing/Desktop/Material_11_21/4min/TerryMoore_2012.wav', '/Users/ruiqing/Desktop/Material_11_21/4min/MarcinJakubowski_2011U.wav', '/Users/ruiqing/Desktop/Material_11_21/4min/GeverTulley_2009.wav', '/Users/ruiqing/Desktop/Material_11_21/5min/JessicaGreen_2011G.wav', '/Users/ruiqing/Desktop/Material_11_21/5min/JessiArrington_2011A.wav', '/Users/ruiqing/Desktop/Material_11_21/5min/ChristinaWarinner_2012U.wav', '/Users/ruiqing/Desktop/Material_11_21/5min/TaniaLuna_2012S.wav', '/Users/ruiqing/Desktop/Material_11_21/5min/KirkCitron_2010.wav', '/Users/ruiqing/Desktop/Material_11_21/5min/MurrayGellMannLANGUAGE_2007.wav', '/Users/ruiqing/Desktop/Material_11_21/9min/EricMead_2009P.wav', '/Users/ruiqing/Desktop/Material_11_21/6min/GaryFlake_2010.wav', '/Users/ruiqing/Desktop/Material_11_21/3min/SonaarLuthra_2011G.wav', '/Users/ruiqing/Desktop/Material_11_21/3min/MitchellJoachim_2010.wav', '/Users/ruiqing/Desktop/Material_11_21/3min/MattCutts_2011U.wav', '/Users/ruiqing/Desktop/Material_11_21/3min/LauraTrice_2008.wav', '/Users/ruiqing/Desktop/Material_11_21/3min/KevinSurace_2009.wav', '/Users/ruiqing/Desktop/Material_11_21/3min/RichardStJohn_2005.wav', '/Users/ruiqing/Desktop/Material_11_21/3min/DeanOrnish_2008.wav']\n",
      "['/Users/ruiqing/Desktop/Material_11_21/.DS_Store', '/Users/ruiqing/Desktop/Material_11_21/text_chosen.csv', '/Users/ruiqing/Desktop/Material_11_21/text_select.py', '/Users/ruiqing/Desktop/Material_11_21/4min/ChristopherdeCharms_2008.wav', '/Users/ruiqing/Desktop/Material_11_21/4min/PeterDiamandis_2008.wav', '/Users/ruiqing/Desktop/Material_11_21/4min/RennyGleeson_2012U.wav', '/Users/ruiqing/Desktop/Material_11_21/4min/SamMartin_2009G.wav', '/Users/ruiqing/Desktop/Material_11_21/4min/CarlSchoonover_2012U.wav', '/Users/ruiqing/Desktop/Material_11_21/4min/TerryMoore_2012.wav', '/Users/ruiqing/Desktop/Material_11_21/4min/MarcinJakubowski_2011U.wav', '/Users/ruiqing/Desktop/Material_11_21/4min/GeverTulley_2009.wav', '/Users/ruiqing/Desktop/Material_11_21/5min/JessicaGreen_2011G.wav', '/Users/ruiqing/Desktop/Material_11_21/5min/JessiArrington_2011A.wav', '/Users/ruiqing/Desktop/Material_11_21/5min/ChristinaWarinner_2012U.wav', '/Users/ruiqing/Desktop/Material_11_21/5min/TaniaLuna_2012S.wav', '/Users/ruiqing/Desktop/Material_11_21/5min/KirkCitron_2010.wav', '/Users/ruiqing/Desktop/Material_11_21/5min/MurrayGellMannLANGUAGE_2007.wav', '/Users/ruiqing/Desktop/Material_11_21/9min/EricMead_2009P.wav', '/Users/ruiqing/Desktop/Material_11_21/6min/GaryFlake_2010.wav', '/Users/ruiqing/Desktop/Material_11_21/3min/SonaarLuthra_2011G.wav', '/Users/ruiqing/Desktop/Material_11_21/3min/MitchellJoachim_2010.wav', '/Users/ruiqing/Desktop/Material_11_21/3min/MattCutts_2011U.wav', '/Users/ruiqing/Desktop/Material_11_21/3min/LauraTrice_2008.wav', '/Users/ruiqing/Desktop/Material_11_21/3min/KevinSurace_2009.wav', '/Users/ruiqing/Desktop/Material_11_21/3min/RichardStJohn_2005.wav', '/Users/ruiqing/Desktop/Material_11_21/3min/DeanOrnish_2008.wav', '/Users/ruiqing/Desktop/Material_11_21/7min/DavidMerrill_2009.wav', '/Users/ruiqing/Desktop/Material_11_21/7min/TomWujec_2010U.wav']\n"
     ]
    },
    {
     "ename": "TypeError",
     "evalue": "unsupported operand type(s) for /: 'list' and 'list'",
     "output_type": "error",
     "traceback": [
      "\u001b[0;31m---------------------------------------------------------------------------\u001b[0m",
      "\u001b[0;31mTypeError\u001b[0m                                 Traceback (most recent call last)",
      "\u001b[0;32m<ipython-input-62-43908a67eb9c>\u001b[0m in \u001b[0;36m<module>\u001b[0;34m()\u001b[0m\n\u001b[1;32m     46\u001b[0m \u001b[0;34m\u001b[0m\u001b[0m\n\u001b[1;32m     47\u001b[0m \u001b[0;32mif\u001b[0m \u001b[0m__name__\u001b[0m \u001b[0;34m==\u001b[0m \u001b[0;34m'__main__'\u001b[0m\u001b[0;34m:\u001b[0m\u001b[0;34m\u001b[0m\u001b[0m\n\u001b[0;32m---> 48\u001b[0;31m     \u001b[0mmain\u001b[0m\u001b[0;34m(\u001b[0m\u001b[0;34m)\u001b[0m\u001b[0;34m\u001b[0m\u001b[0m\n\u001b[0m",
      "\u001b[0;32m<ipython-input-62-43908a67eb9c>\u001b[0m in \u001b[0;36mmain\u001b[0;34m()\u001b[0m\n\u001b[1;32m     42\u001b[0m         \u001b[0mwriter\u001b[0m \u001b[0;34m=\u001b[0m \u001b[0mcsv\u001b[0m\u001b[0;34m.\u001b[0m\u001b[0mwriter\u001b[0m\u001b[0;34m(\u001b[0m\u001b[0mf\u001b[0m\u001b[0;34m,\u001b[0m \u001b[0mdelimiter\u001b[0m\u001b[0;34m=\u001b[0m\u001b[0;34m'\\t'\u001b[0m\u001b[0;34m)\u001b[0m\u001b[0;34m\u001b[0m\u001b[0m\n\u001b[1;32m     43\u001b[0m         \u001b[0mwriter\u001b[0m\u001b[0;34m.\u001b[0m\u001b[0mwriterow\u001b[0m\u001b[0;34m(\u001b[0m\u001b[0;34m[\u001b[0m\u001b[0;34m\"stm_name\"\u001b[0m\u001b[0;34m,\u001b[0m \u001b[0;34m\"Nword\"\u001b[0m\u001b[0;34m,\u001b[0m \u001b[0;34m\"duration\"\u001b[0m\u001b[0;34m,\u001b[0m\u001b[0;34m\"speed\"\u001b[0m\u001b[0;34m]\u001b[0m\u001b[0;34m)\u001b[0m\u001b[0;34m\u001b[0m\u001b[0m\n\u001b[0;32m---> 44\u001b[0;31m         \u001b[0mwriter\u001b[0m\u001b[0;34m.\u001b[0m\u001b[0mwriterows\u001b[0m\u001b[0;34m(\u001b[0m\u001b[0mzip\u001b[0m\u001b[0;34m(\u001b[0m\u001b[0mstm_name\u001b[0m\u001b[0;34m,\u001b[0m\u001b[0mWordCount\u001b[0m\u001b[0;34m,\u001b[0m\u001b[0mduration\u001b[0m\u001b[0;34m,\u001b[0m\u001b[0mWordCount\u001b[0m\u001b[0;34m/\u001b[0m\u001b[0mduration\u001b[0m\u001b[0;34m)\u001b[0m\u001b[0;34m)\u001b[0m\u001b[0;34m\u001b[0m\u001b[0m\n\u001b[0m\u001b[1;32m     45\u001b[0m \u001b[0;34m\u001b[0m\u001b[0m\n\u001b[1;32m     46\u001b[0m \u001b[0;34m\u001b[0m\u001b[0m\n",
      "\u001b[0;31mTypeError\u001b[0m: unsupported operand type(s) for /: 'list' and 'list'"
     ]
    }
   ],
   "source": [
    "import os\n",
    "import csv\n",
    "import wave\n",
    "import contextlib\n",
    "\n",
    "# based on bits choose audio(size <= 10MB)\n",
    "chosen_audio_dir = ('/Users/ruiqing/Desktop/Material_11_21')\n",
    "source_stm_dir = ('/Users/ruiqing/Downloads/TEDLIUM_release2/train/stm/')\n",
    "\n",
    "def main():\n",
    "    dirName = chosen_audio_dir;\n",
    "    stm_name=[]\n",
    "    WordCount=[]\n",
    "    duration=[]\n",
    "    # Get the list of all files in directory tree at given path\n",
    "    listOfFiles = list()\n",
    "    audiopath = list()\n",
    "    for (dirpath, dirnames, filenames) in os.walk(dirName):\n",
    "        listOfFiles += filenames\n",
    "        audiopath += [os.path.join(dirpath, file) for file in filenames] \n",
    "        print audiopath\n",
    "        for audio in audiopath:\n",
    "            if audio.endswith(\"wav\"):\n",
    "                with contextlib.closing(wave.open(audio,'r')) as f:\n",
    "                    frames = f.getnframes()\n",
    "                    rate = f.getframerate()\n",
    "                    duration.append((frames/float(rate))/60)\n",
    "\n",
    "    for elem in listOfFiles:\n",
    "        try:\n",
    "            name_length=len(elem) \n",
    "            if elem.endswith(\"wav\"): \n",
    "                stm_name.append(elem[0:(len(elem)-4)])\n",
    "                stm_file=open(source_stm_dir + elem[0:(len(elem)-4)] + \".stm\").read()\n",
    "                WordCount.append(len(stm_file.split()))\n",
    "                \n",
    "                    \n",
    "        except:\n",
    "            pass \n",
    "    \n",
    "    with open(os.path.join(chosen_audio_dir,'text_chosen.csv'), 'wb') as f:\n",
    "        writer = csv.writer(f, delimiter='\\t')\n",
    "        writer.writerow([\"stm_name\", \"Nword\", \"duration\"])\n",
    "        writer.writerows(zip(stm_name,WordCount,duration))\n",
    "\n",
    "        \n",
    "if __name__ == '__main__':\n",
    "    main()\n"
   ]
  },
  {
   "cell_type": "code",
   "execution_count": null,
   "metadata": {},
   "outputs": [],
   "source": []
  },
  {
   "cell_type": "code",
   "execution_count": null,
   "metadata": {},
   "outputs": [],
   "source": []
  }
 ],
 "metadata": {
  "kernelspec": {
   "display_name": "Python 2",
   "language": "python",
   "name": "python2"
  },
  "language_info": {
   "codemirror_mode": {
    "name": "ipython",
    "version": 2
   },
   "file_extension": ".py",
   "mimetype": "text/x-python",
   "name": "python",
   "nbconvert_exporter": "python",
   "pygments_lexer": "ipython2",
   "version": "2.7.15"
  }
 },
 "nbformat": 4,
 "nbformat_minor": 2
}
